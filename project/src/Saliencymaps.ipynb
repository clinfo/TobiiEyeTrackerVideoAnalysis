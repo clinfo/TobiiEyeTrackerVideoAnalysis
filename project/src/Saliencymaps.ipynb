{
 "cells": [
  {
   "cell_type": "code",
   "execution_count": 4,
   "metadata": {},
   "outputs": [],
   "source": [
    "import cv2\n",
    "import os\n",
    "from os.path import expanduser"
   ]
  },
  {
   "cell_type": "code",
   "execution_count": 9,
   "metadata": {},
   "outputs": [],
   "source": [
    "home = expanduser(\"~\")\n",
    "OriginalVideoFilepath = home + '/Documents/EyeTrackerAnalysis/originalMaterial/20170421ME0021782_1.avi'\n",
    "OutputVideoFilepathMo = home + '/Documents/EyeTrackerAnalysis/saliency_map/saliencyMo.mp4'\n",
    "OutputImageDirMo = home + '/Documents/EyeTrackerAnalysis/saliency_map/Mo/'\n",
    "OutputVideoFilepathFG = home + '/Documents/EyeTrackerAnalysis/saliency_map/saliencyFG.mp4'\n",
    "OutputImageDirFG = home + '/Documents/EyeTrackerAnalysis/saliency_map/FG/'\n",
    "OutputVideoFilepathSR = home + '/Documents/EyeTrackerAnalysis/saliency_map/saliencySR.mp4'\n",
    "OutputImageDirSR = home + '/Documents/EyeTrackerAnalysis/saliency_map/SR/'"
   ]
  },
  {
   "cell_type": "code",
   "execution_count": 10,
   "metadata": {},
   "outputs": [],
   "source": [
    "def SaliencyMaps(OriginalVideoFilepath, OutputVideoFilepath, SaliencyMap):\n",
    "    \n",
    "    cap = cv2.VideoCapture(OriginalVideoFilepath)\n",
    "    width = int(cap.get(3))\n",
    "    height = int(cap.get(4))\n",
    "    if not cap.isOpened():\n",
    "        exit()\n",
    "        \n",
    "    saliency = None\n",
    "    fourcc = cv2.VideoWriter_fourcc('m', 'p', '4', 'v')\n",
    "    writer = cv2.VideoWriter(OutputVideoFilepath, \n",
    "                                           fourcc, cap.get(cv2.CAP_PROP_FPS), (720, 480), False)\n",
    "\n",
    "    while(cap.isOpened()):\n",
    "        ret, img = cap.read()\n",
    "        if not ret:\n",
    "            break\n",
    "        frame_dst = cv2.resize(img, dsize=(720, 480))\n",
    "        \n",
    "        if saliency is None:\n",
    "            saliency = SaliencyMap\n",
    "            saliency.setImagesize(frame_dst.shape[1], frame_dst.shape[0])\n",
    "            saliency.init()\n",
    "\n",
    "        gray = cv2.cvtColor(frame_dst, cv2.COLOR_BGR2GRAY)\n",
    "\n",
    "        (success, saliencyMap) = saliency.computeSaliency(gray)\n",
    "        saliencyMap = (saliencyMap*255).astype('uint8')\n",
    "        \n",
    "        writer.write(saliencyMap)\n",
    "\n",
    "    \n",
    "    writer.release()\n",
    "    cap.release()"
   ]
  },
  {
   "cell_type": "code",
   "execution_count": 11,
   "metadata": {},
   "outputs": [],
   "source": [
    "def ImageConversion(video_file, image_dir, image_file):\n",
    "\n",
    "    i = 0\n",
    "    cap = cv2.VideoCapture(video_file)\n",
    "    print('{}{}'.format('fps=',cap.get(cv2.CAP_PROP_FPS)))\n",
    "    print('{}{}'.format('width=', cap.get(cv2.CAP_PROP_FRAME_WIDTH)))\n",
    "    print('{}{}'.format('width=', cap.get(cv2.CAP_PROP_FRAME_HEIGHT)))\n",
    "    while(cap.isOpened()):\n",
    "        flag, frame = cap.read()  \n",
    "        if flag == False:  \n",
    "            break\n",
    "        cv2.imwrite(image_dir+image_file % str(i).zfill(6), frame) \n",
    "        print('Save', image_dir+image_file % str(i).zfill(6))\n",
    "        i += 1\n",
    "\n",
    "    cap.release()  "
   ]
  },
  {
   "cell_type": "code",
   "execution_count": null,
   "metadata": {},
   "outputs": [],
   "source": [
    "SaliencyMaps(OriginalVideoFilepath, OutputVideoFilepathMo, cv2.saliency.MotionSaliencyBinWangApr2014_create())\n",
    "SaliencyMaps(OriginalVideoFilepath, OutputVideoFilepathFG, cv2.saliency.StaticSaliencyFineGrained_create())\n",
    "SaliencyMaps(OriginalVideoFilepath, OutputVideoFilepathSR, cv2.saliency.StaticSaliencySpectralResidual_create())"
   ]
  },
  {
   "cell_type": "code",
   "execution_count": null,
   "metadata": {},
   "outputs": [],
   "source": [
    "ImageConversion(OutputVideoFilepathMo, OutputImageDirMo, 'Mo_img_%s.png')\n",
    "ImageConversion(OutputVideoFilepathFG, OutputImageDirFG, 'FG_img_%s.png')\n",
    "ImageConversion(OutputVideoFilepathSR, OutputImageDirSR, 'SR_img_%s.png')"
   ]
  }
 ],
 "metadata": {
  "kernelspec": {
   "display_name": "Python 3",
   "language": "python",
   "name": "python3"
  },
  "language_info": {
   "codemirror_mode": {
    "name": "ipython",
    "version": 3
   },
   "file_extension": ".py",
   "mimetype": "text/x-python",
   "name": "python",
   "nbconvert_exporter": "python",
   "pygments_lexer": "ipython3",
   "version": "3.7.4"
  }
 },
 "nbformat": 4,
 "nbformat_minor": 2
}
